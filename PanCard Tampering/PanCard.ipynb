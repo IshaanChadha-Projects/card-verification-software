{
 "cells": [
  {
   "cell_type": "code",
   "execution_count": null,
   "id": "42dd36af",
   "metadata": {},
   "outputs": [],
   "source": [
    "from skimage.metrics import structural_similarity #structural similarity score b/w two images\n",
    "import imutils #grabbing contours of the images\n",
    "import cv2 #computer vision for all the image processing requirements\n",
    "from PIL import Image #downloading and visualizing the image\n",
    "import requests #fetch the data from the urls"
   ]
  },
  {
   "cell_type": "code",
   "execution_count": null,
   "id": "50457254",
   "metadata": {},
   "outputs": [],
   "source": [
    "# !mkdir image"
   ]
  },
  {
   "cell_type": "code",
   "execution_count": null,
   "id": "bbed6b2c",
   "metadata": {},
   "outputs": [],
   "source": [
    "# Open the image and display\n",
    "# original = Image.open(requests.get('https://www.thestatesman.com/wp-content/uploads/2019/07/pan-card.jpg', stream=True).raw)\n",
    "# tampered = Image.open(requests.get('https://assets1.cleartax-cdn.com/s/img/20170526124335/Pan4.png', stream=True).raw)"
   ]
  },
  {
   "cell_type": "code",
   "execution_count": null,
   "id": "3515d3a8",
   "metadata": {},
   "outputs": [],
   "source": [
    "# Open the image and display\n",
    "original = Image.open(\"image/original.png\")\n",
    "tampered = Image.open(\"image/tampered.png\")"
   ]
  },
  {
   "cell_type": "code",
   "execution_count": null,
   "id": "88a41f38",
   "metadata": {},
   "outputs": [],
   "source": [
    "print('Original image format: ', original.format)\n",
    "print('Tampered image format: ', tampered.format)\n",
    "\n",
    "\n",
    "print('Original image size: ', original.size)\n",
    "print('Tampered image size: ', tampered.size)"
   ]
  },
  {
   "cell_type": "code",
   "execution_count": null,
   "id": "7b4e4193",
   "metadata": {},
   "outputs": [],
   "source": [
    "# Resize and save the images\n",
    "original = original.resize((250, 160))\n",
    "print(original.size)\n",
    "original.save('image/original.png')\n",
    "\n",
    "tampered = tampered.resize((250, 160))\n",
    "print(tampered.size)\n",
    "tampered.save('image/tampered.png')"
   ]
  },
  {
   "cell_type": "code",
   "execution_count": null,
   "id": "3b0fb8d0",
   "metadata": {},
   "outputs": [],
   "source": [
    "#display original image\n",
    "original"
   ]
  },
  {
   "cell_type": "code",
   "execution_count": null,
   "id": "68ff6160",
   "metadata": {},
   "outputs": [],
   "source": [
    "#diplay user given image\n",
    "tampered"
   ]
  },
  {
   "cell_type": "code",
   "execution_count": null,
   "id": "ef33462a",
   "metadata": {},
   "outputs": [],
   "source": [
    "# Load these images using cv2 to apply cv2 functions to it\n",
    "original = cv2.imread('image/original.png')\n",
    "tampered = cv2.imread('image/tampered.png')"
   ]
  },
  {
   "cell_type": "code",
   "execution_count": null,
   "id": "f88f4c54",
   "metadata": {},
   "outputs": [],
   "source": [
    "# Convert the images to grayscale\n",
    "\n",
    "# Converting images into grayscale using opencv. Because in image processing many applications don't help us \n",
    "# in identifying the important, edges of the coloured images also coloured images are bit complex to understand \n",
    "# by machine beacuse they have 3 channels(RGB) while grayscale has only 1 channel.\n",
    "\n",
    "original_gray = cv2.cvtColor(original, cv2.COLOR_BGR2GRAY)\n",
    "tampered_gray = cv2.cvtColor(tampered, cv2.COLOR_BGR2GRAY)"
   ]
  },
  {
   "cell_type": "code",
   "execution_count": null,
   "id": "43c5acf8",
   "metadata": {},
   "outputs": [],
   "source": [
    "# Compute the Structural Similarity Index (SSIM) between the two images, ensuring that the difference image is returned\n",
    "\n",
    "# Structural similarity index helps us to determine exactly where in terms of x,y coordinates location, the \n",
    "# image differences are. Here, we are trying to find similarities between the original and tampered image.\n",
    "# The lower the SSIM score lower is the similarity.\n",
    "\n",
    "(score, diff) = structural_similarity(original_gray, tampered_gray, full=True)\n",
    "diff = (diff * 255).astype(\"uint8\")\n",
    "print(\"SSIM: {}\".format(score))"
   ]
  },
  {
   "cell_type": "code",
   "execution_count": null,
   "id": "22d70ae2",
   "metadata": {},
   "outputs": [],
   "source": [
    "# Calculating threshold and contours\n",
    "thresh = cv2.threshold(diff, 0, 255, cv2.THRESH_BINARY_INV | cv2.THRESH_OTSU)[1]\n",
    "cnts = cv2.findContours(thresh.copy(), cv2.RETR_EXTERNAL, cv2.CHAIN_APPROX_SIMPLE)\n",
    "cnts = imutils.grab_contours(cnts)"
   ]
  },
  {
   "cell_type": "code",
   "execution_count": null,
   "id": "a43a4fb1",
   "metadata": {},
   "outputs": [],
   "source": [
    "# Loops over the contours\n",
    "for c in cnts:\n",
    "    (x, y, w, h) = cv2.boundingRect(c)\n",
    "    cv2.rectangle(original, (x,y), (x + w, y +h), (0, 0, 255), 2)\n",
    "    cv2.rectangle(tampered, (x,y), (x + w, y +h), (0, 0, 255), 2)"
   ]
  },
  {
   "cell_type": "code",
   "execution_count": null,
   "id": "c2da32d2",
   "metadata": {},
   "outputs": [],
   "source": [
    "# Display original image with contour\n",
    "Image.fromarray(original)"
   ]
  },
  {
   "cell_type": "code",
   "execution_count": null,
   "id": "f174d4f6",
   "metadata": {},
   "outputs": [],
   "source": [
    "# Display tampered image with contour\n",
    "Image.fromarray(tampered)"
   ]
  },
  {
   "cell_type": "code",
   "execution_count": null,
   "id": "cb1659e0",
   "metadata": {},
   "outputs": [],
   "source": [
    "# Visualizing difference in images in black\n",
    "Image.fromarray(diff)"
   ]
  },
  {
   "cell_type": "code",
   "execution_count": null,
   "id": "8a9f8f80",
   "metadata": {},
   "outputs": [],
   "source": [
    "# Visualizing threshold with white\n",
    "Image.fromarray(thresh)"
   ]
  }
 ],
 "metadata": {
  "kernelspec": {
   "display_name": "Python 3 (ipykernel)",
   "language": "python",
   "name": "python3"
  },
  "language_info": {
   "codemirror_mode": {
    "name": "ipython",
    "version": 3
   },
   "file_extension": ".py",
   "mimetype": "text/x-python",
   "name": "python",
   "nbconvert_exporter": "python",
   "pygments_lexer": "ipython3",
   "version": "3.9.5"
  }
 },
 "nbformat": 4,
 "nbformat_minor": 5
}
